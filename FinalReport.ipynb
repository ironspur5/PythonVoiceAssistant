{
 "cells": [
  {
   "cell_type": "markdown",
   "metadata": {},
   "source": [
    "# Python Jarvis"
   ]
  },
  {
   "cell_type": "markdown",
   "metadata": {},
   "source": [
    "## Purpose\n",
    "We wanted to create a voice activated assistant coded in Python. The final idea was for it to replicate the functionality of popular voice assistants such as Alexa, Siri, and Google Voice Assistant. We believed that such a program would be helpful to do simple computer tasks for those with disabilities or other issues."
   ]
  },
  {
   "cell_type": "markdown",
   "metadata": {},
   "source": [
    "## GitHub Repository Link\n",
    "https://github.com/ironspur5/PythonVoiceAssistant"
   ]
  },
  {
   "cell_type": "markdown",
   "metadata": {},
   "source": [
    "## Requirements\n",
    "**Environment:** \n",
    "\n",
    "MacOS 10.14.13\n",
    "\n",
    "Anaconda \n",
    "\n",
    "Python 3.6\n",
    "\n",
    "**Steps:**\n",
    "\n",
    "1.Create Google Cloud Platform account and activate a cloud speech to text API .JSON key\n",
    "\n",
    "2.Create Python 3.6 environment in Anaconda\n",
    "\n",
    "3.Activate Python 3.6 environment and verify it is active with * icon next to it\n",
    "\n",
    "    conda activate py36\n",
    "    conda env list\n",
    "\n",
    "4.Install dependencies with following pip command (change path/to/ accordingly)\n",
    "\n",
    "    pip install -r /path/to/requirements.txt \n",
    "\n",
    "5.Mac only: Install Homebrew with following command\n",
    "\n",
    "    /usr/bin/ruby -e \"$(curl -fsSL https://raw.githubusercontent.com/Homebrew/install/master/install)\"\n",
    "\n",
    "6.Install Portaudio with following command\n",
    " \n",
    "    brew install portaudio \n",
    "\n",
    "7.Install mpg123 \n",
    "\n",
    "    brew install mpg123"
   ]
  },
  {
   "cell_type": "markdown",
   "metadata": {},
   "source": [
    "## Process\n",
    "We utilized available Python libraries to handle processing speech commands and outputting audio responses. We imported the following libraries:"
   ]
  },
  {
   "cell_type": "code",
   "execution_count": null,
   "metadata": {},
   "outputs": [],
   "source": [
    "import speech_recognition as sr\n",
    "from datetime import datetime\n",
    "import time\n",
    "import os\n",
    "from gtts import gTTS\n",
    "import webbrowser\n",
    "import random\n",
    "from tkinter import *"
   ]
  },
  {
   "cell_type": "markdown",
   "metadata": {},
   "source": [
    "After prompting the user for input, the program will continue to run and listen for commands."
   ]
  },
  {
   "cell_type": "code",
   "execution_count": null,
   "metadata": {},
   "outputs": [],
   "source": [
    "speak(\"Hi, what can I do for you?\")\n",
    "while 1:\n",
    "    data = recordAudio()\n",
    "    jarvis(data)"
   ]
  },
  {
   "cell_type": "markdown",
   "metadata": {},
   "source": [
    "__recordAudio__\n",
    "Uses the system microphone as its source and then records the audio it collects."
   ]
  },
  {
   "cell_type": "code",
   "execution_count": null,
   "metadata": {},
   "outputs": [],
   "source": [
    "r = sr.Recognizer()\n",
    "with sr.Microphone() as source:\n",
    "    audio = r.listen(source)"
   ]
  },
  {
   "cell_type": "markdown",
   "metadata": {},
   "source": [
    "Using Google's speech recognition, we then turn the collected audio data into a string or print an error message if the text cannot be processed."
   ]
  },
  {
   "cell_type": "code",
   "execution_count": null,
   "metadata": {},
   "outputs": [],
   "source": [
    "try:\n",
    "    # Uses the default API key\n",
    "    # To use another API key: `r.recognize_google(audio, key=\"GOOGLE_SPEECH_RECOGNITION_API_KEY\")`\n",
    "    data = r.recognize_google(audio)\n",
    "    print(\"You said: \" + data)\n",
    "except sr.UnknownValueError:\n",
    "    print(\"Google Speech Recognition could not understand audio\")\n",
    "except sr.RequestError as e:\n",
    "    print(\"Could not request results from Google Speech Recognition service; {0}\".format(e))\n",
    "\n",
    "return data"
   ]
  },
  {
   "cell_type": "markdown",
   "metadata": {},
   "source": [
    "__jarvis__\n",
    "The data string is then passed to jarvis which handles the command."
   ]
  },
  {
   "cell_type": "code",
   "execution_count": null,
   "metadata": {},
   "outputs": [],
   "source": [
    "def jarvis(data):\n",
    "    if \"how are you\" in data:\n",
    "        speak(\"I am fine\")\n",
    "        #LABEL = Label(ROOT, text=\"I am fine\")\n",
    "        #LABEL.pack()\n",
    "\n",
    "    # previously it was if \"joke\" or \"jokes\" in data\n",
    "    # thus caused the joke case to run every time! Deleting or \"jokes\" fixed the issue\n",
    "    if \"joke\" in data:\n",
    "        # get a random number between 0 and 75 to get a random joke\n",
    "        ranNum = random.randint(0, 75)\n",
    "        # preload joke before request\n",
    "        jokeDict = eval(open(\"dict.txt\").read())\n",
    "        setUpline = jokeDict[ranNum][\"setup\"]\n",
    "        punchy = jokeDict[ranNum][\"punchline\"]\n",
    "        speak(setUpline)\n",
    "        speak(punchy)\n",
    "\n",
    "    if \"time\" in data:\n",
    "        tm = datetime.now()\n",
    "        speak(\"The time is \" + tm.strftime(\"%I:%M%p\"))\n",
    "        #LABEL = Label(ROOT, text=tm.strftime(\"%I:%M%p\"))\n",
    "        #LABEL.pack()\n",
    "\n",
    "    if \"date\" in data:\n",
    "        now = datetime.now()\n",
    "        speak(\"Today is \" + now.strftime(\"%A,%d %B,%Y\"))\n",
    "        #LABEL = Label(ROOT, text=now.strftime(\"%A,%d %B,%Y\"))\n",
    "        #LABEL.pack()\n",
    "\n",
    "    if \"news\" in data:\n",
    "        speak(\"Coming right up\")\n",
    "        #LABEL = Label(ROOT, text=\"Coming right up\")\n",
    "        #LABEL.pack()\n",
    "        webbrowser.open('https://news.google.com')\n",
    "    \n",
    "    if \"weather\" in data:\n",
    "        speak(str(getWeather()))"
   ]
  },
  {
   "cell_type": "markdown",
   "metadata": {},
   "source": [
    "__speak__\n",
    "This function uses Google Text to Speech to convert a string response into an MP3 audio file. It then uses mpg123 which has been previously installed to play the audio clip. "
   ]
  },
  {
   "cell_type": "code",
   "execution_count": null,
   "metadata": {},
   "outputs": [],
   "source": [
    "def speak(audioString):\n",
    "    print(audioString)\n",
    "    tts = gTTS(text=audioString, lang='en')\n",
    "    tts.save(\"audio.mp3\")\n",
    "    os.system(\"mpg123 audio.mp3\")"
   ]
  },
  {
   "cell_type": "markdown",
   "metadata": {},
   "source": [
    "__weather__\n",
    "Utilizes a web scraper to collect hourly data from weather.com and then outputs the current weather conditions."
   ]
  },
  {
   "cell_type": "code",
   "execution_count": null,
   "metadata": {},
   "outputs": [],
   "source": [
    "def getWeather():\n",
    "    page = requests.get(\"https://weather.com/weather/hourbyhour/l/7472a7bbd3a7454aadf596f0ba7dc8b08987b1f7581fae69d8817dffffc487c2\") #https://weather.com/weather/tenday/l/7472a7bbd3a7454aadf596f0ba7dc8b08987b1f7581fae69d8817dffffc487c2\n",
    "    content = page.content\n",
    "    soup = BeautifulSoup(content, \"html.parser\")\n",
    "    l = []\n",
    "    all = soup.find(\"div\", {\"class\": \"locations-title hourly-page-title\"}).find(\"h1\").text #\"locations-title ten-day-page-title\"\n",
    "    #print(all)\n",
    "\n",
    "    table = soup.find_all(\"table\", {\"class\": \"twc-table\"})\n",
    "    #print(table)\n",
    "    for items in table:\n",
    "        for i in range(len(items.find_all(\"tr\")) - 1):\n",
    "            d = {}\n",
    "            try:\n",
    "                d[\"desc\"] = items.find_all(\"td\", {\"class\": \"description\"})[i].text\n",
    "                d[\"temp\"] = items.find_all(\"td\", {\"class\": \"temp\"})[i].text\n",
    "            except:\n",
    "                d[\"desc\"] = \"None\"\n",
    "                d[\"temp\"] = \"None\"\n",
    "            l.append(d)\n",
    "            \n",
    "            import pandas\n",
    "\n",
    "            df = pandas.DataFrame(l)\n",
    "            #print(df.temp.loc[[0]] + \" \" + df.desc.loc[[0]])\n",
    "\n",
    "            response = \"It is \" + df.at[0, \"desc\"] + \". The temperature is \" + df.at[0, \"temp\"]\n",
    "\n",
    "            print(response)\n",
    "\n",
    "            return str(response)"
   ]
  },
  {
   "cell_type": "markdown",
   "metadata": {},
   "source": [
    "The string is returned to jarvis which then uses speak to tell the user the weather."
   ]
  }
 ],
 "metadata": {
  "kernelspec": {
   "display_name": "Python 3",
   "language": "python",
   "name": "python3"
  },
  "language_info": {
   "codemirror_mode": {
    "name": "ipython",
    "version": 3
   },
   "file_extension": ".py",
   "mimetype": "text/x-python",
   "name": "python",
   "nbconvert_exporter": "python",
   "pygments_lexer": "ipython3",
   "version": "3.6.7"
  }
 },
 "nbformat": 4,
 "nbformat_minor": 2
}
